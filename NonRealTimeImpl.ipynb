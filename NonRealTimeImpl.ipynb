{
 "cells": [
  {
   "cell_type": "code",
   "execution_count": 1,
   "metadata": {},
   "outputs": [],
   "source": [
    "import torch\n",
    "import torch.nn as nn\n",
    "import torch.optim as optim\n",
    "import numpy as np\n",
    "# from torchviz import make_dot\n",
    "import os, fnmatch\n",
    "import torchaudio\n",
    "import sounddevice as sd\n",
    "import soundfile as sf\n",
    "\n",
    "from sklearn.model_selection import train_test_split\n",
    "from sklearn.preprocessing import StandardScaler\n",
    "import array\n",
    "import torch.fft as fft\n",
    "from CustomDataloader import CustomDataloaderCreator,DataConfig\n",
    "from Training import Trainer\n",
    "from tqdm import tqdm\n",
    "\n",
    "from plottingHelper import compareTwoAudios"
   ]
  },
  {
   "cell_type": "code",
   "execution_count": 2,
   "metadata": {},
   "outputs": [
    {
     "name": "stdout",
     "output_type": "stream",
     "text": [
      "cuda\n"
     ]
    }
   ],
   "source": [
    "# Set up torch and cuda\n",
    "dtype = torch.float32\n",
    "# dtype = torch.float64\n",
    "device = torch.device('cuda' if torch.cuda.is_available() else 'cpu')\n",
    "torch.set_default_tensor_type('torch.cuda.FloatTensor' if torch.cuda.is_available() else 'torch.FloatTensor')\n",
    "\n",
    "print(device)\n",
    "# Set random seeds\n",
    "torch.manual_seed(42)\n",
    "torch.cuda.manual_seed_all(42)\n",
    "\n",
    "class DefaultConfig():\n",
    "    def __init__(self):\n",
    "        self.frameSize = 512\n",
    "        self.stride_length = 256\n",
    "        self.learningRate = 0.01\n",
    "        self.batchSize = 64\n",
    "        self.num_epochs = 150\n",
    "        self.shuffle = True\n",
    "        self.duration = 6\n",
    "        self.hiddenSize = 512\n",
    "        self.numHiddenLayers = 4\n",
    "    \n",
    "    def printMembers(self):\n",
    "        print(\"frameSize: \", self.frameSize)\n",
    "        print(\"stride_length: \", self.stride_length)\n",
    "        print(\"learningRate: \", self.learningRate)\n",
    "        print(\"batchSize: \", self.batchSize)\n",
    "        print(\"num_epochs: \", self.num_epochs)\n",
    "        print(\"shuffle: \", self.shuffle)\n",
    "        print(\"duration: \", self.duration)\n",
    "        print(\"hiddenSize: \", self.hiddenSize)\n",
    "        print(\"numHiddenLayers: \", self.numHiddenLayers)\n",
    "\n",
    "class SimpleLinearModel(nn.Module):\n",
    "    def __init__(self, input_feature_dim,hiddenSize,numHiddenLayers,dtype = torch.float64):\n",
    "        super(SimpleLinearModel, self).__init__()\n",
    "        self.input_feature_dim = input_feature_dim\n",
    "        self.flattenedDims = input_feature_dim[0]*input_feature_dim[1]\n",
    "        layers = []\n",
    "        layers.append(nn.Flatten())\n",
    "\n",
    "        for i in range(numHiddenLayers):\n",
    "            if(i==0):\n",
    "                layers.append(nn.Linear(self.flattenedDims, hiddenSize,dtype=dtype))\n",
    "                layers.append(nn.ReLU())\n",
    "\n",
    "            elif(i==numHiddenLayers-1):\n",
    "                layers.append(nn.Linear(hiddenSize, self.flattenedDims,dtype=dtype))\n",
    "                layers.append(nn.Sigmoid())                                                 # Sigmoid last activation\n",
    "\n",
    "            else:\n",
    "                layers.append(nn.Linear(hiddenSize, hiddenSize,dtype=dtype))\n",
    "                layers.append(nn.ReLU())\n",
    "            \n",
    "\n",
    "        self.neuralnet = nn.Sequential(*layers)\n",
    "\n",
    "    def forward(self, x):\n",
    "        # x = x.view(-1)\n",
    "        # print(\"Input dtype: \", x.dtype)\n",
    "        output = self.neuralnet(x)\n",
    "        op = output.view(-1,*self.input_feature_dim)\n",
    "        # output = fft.irfft(output)\n",
    "        return op\n",
    "    \n",
    "class BasicAutoEncoder(nn.Module):\n",
    "    def __init__(self, input_feature_dim,latentSize,dtype = torch.float64):\n",
    "        super(BasicAutoEncoder, self).__init__()\n",
    "        \n",
    "        self.input_feature_dim = input_feature_dim\n",
    "        self.flattenedDims = input_feature_dim[0]*input_feature_dim[1]\n",
    "        layers = []\n",
    "        layers.append(nn.Flatten())\n",
    "        layers.append(nn.Linear(self.flattenedDims, latentSize*4,dtype=dtype))\n",
    "        layers.append(nn.ReLU())\n",
    "        layers.append(nn.Linear(latentSize*4, latentSize*2,dtype=dtype))\n",
    "        layers.append(nn.ReLU())\n",
    "        layers.append(nn.Linear(latentSize*2, latentSize,dtype=dtype))\n",
    "        layers.append(nn.ReLU())\n",
    "        layers.append(nn.Linear(latentSize, latentSize*2,dtype=dtype))\n",
    "        layers.append(nn.ReLU())\n",
    "        layers.append(nn.Linear(latentSize*2, latentSize*4,dtype=dtype))\n",
    "        layers.append(nn.ReLU())\n",
    "        layers.append(nn.Linear(latentSize*4, self.flattenedDims,dtype=dtype))\n",
    "        layers.append(nn.Sigmoid())                                                # Sigmoid last activation\n",
    "\n",
    "        self.neuralnet = nn.Sequential(*layers)\n",
    "\n",
    "    def forward(self, x):\n",
    "        # print(f'Input shape: {x.shape}')            #([BatchSize,257, 376])\n",
    "        op = self.neuralnet(x)\n",
    "        # print(f'Model output shape: {op.shape}')\n",
    "        op = op.view(-1,*self.input_feature_dim)\n",
    "        # print(f'Final output shape: {op.shape}')    # ([BatchSize,257, 376])\n",
    "        return op\n",
    "\n",
    "# https://medium.com/@polanitzer/building-a-cnn-based-autoencoder-with-denoising-in-python-on-gray-scale-images-of-hand-drawn-digits-61131ec492e4\n",
    "class ConvAutoEncoder(nn.Module):\n",
    "    def __init__(self,dtype = torch.float64):\n",
    "        super(ConvAutoEncoder, self).__init__()\n",
    "        # Expected input = (batch_size, inputFFTFrames, numFFTBins)\n",
    "\n",
    "        self.conv1 = nn.Conv2d(in_channels= 1, out_channels= 32, kernel_size= (3,3), stride= (1,1), padding= (1,1),dtype=dtype)\n",
    "        self.maxpool1 = nn.MaxPool2d(kernel_size= (2,2), stride= (2,2))\n",
    "        \n",
    "        self.conv2 = nn.Conv2d(in_channels= 32, out_channels= 64, kernel_size= (3,3), stride= (1,1), padding= (1,1),dtype=dtype)\n",
    "        self.maxpool2 = nn.MaxPool2d(kernel_size= (2,2), stride= (2,2))\n",
    "\n",
    "        self.t_conv1 = nn.ConvTranspose2d(in_channels= 64, out_channels= 64, kernel_size= (3,3), padding=1,dtype=dtype)\n",
    "        self.upSample1 = nn.Upsample(scale_factor= 2)\n",
    "        self.t_conv2 = nn.ConvTranspose2d(in_channels= 64, out_channels= 32, kernel_size= (3,3), padding=1,dtype=dtype)\n",
    "        self.upSample2 = nn.Upsample(scale_factor= 2)\n",
    "        self.t_conv3 = nn.Conv2d(in_channels= 32, out_channels= 1, kernel_size= (3,3), padding=1,dtype=dtype)\n",
    "\n",
    "        self.relu = nn.ReLU()\n",
    "        self.sigmoid = nn.Sigmoid() \n",
    "        \n",
    "    def forward(self,x):\n",
    "        # print(\"Input shape: \", x.shape) # ([BatchSize,257, 376])\n",
    "\n",
    "        # TODO: Problem when odd number of freq bins (later in convolutions)\n",
    "        if(x.shape[1] % 2 != 0):\n",
    "            x = x[:,:-1,:]\n",
    "\n",
    "        reshapedInput = x.unsqueeze(-1) # ([BatchSize, 256, 376, 1])\n",
    "        x = reshapedInput.permute(0, 3, 1, 2) # ([BatchSize, 1, 256, 376]) One channel image\n",
    "\n",
    "    \n",
    "        # print(\"After permute shape: \", x.shape)\n",
    "\n",
    "        x = self.conv1(x)\n",
    "        # print(\"After conv1 shape: \", x.shape)\n",
    "        x = self.relu(x)\n",
    "        x = self.maxpool1(x)\n",
    "        # print(\"After maxpool1 shape: \", x.shape)\n",
    "        x = self.conv2(x)\n",
    "        # print(\"After conv2 shape: \", x.shape)\n",
    "        x = self.relu(x)\n",
    "        x = self.maxpool2(x)\n",
    "        # print(\"After maxpool2 shape: \", x.shape)\n",
    "        x = self.t_conv1(x)\n",
    "        # print(\"After t_conv1 shape: \", x.shape)\n",
    "        x = self.relu(x)\n",
    "        x = self.upSample1(x)\n",
    "        # print(\"After upSample1 shape: \", x.shape)\n",
    "        x = self.t_conv2(x)\n",
    "        # print(\"After t_conv2 shape: \", x.shape)\n",
    "        x = self.relu(x)\n",
    "        x = self.upSample2(x)\n",
    "        # print(\"After upSample2 shape: \", x.shape)\n",
    "        x = self.t_conv3(x)\n",
    "        # print(\"After t_conv3 shape: \", x.shape)\n",
    "        x = self.sigmoid(x)                                                         # Sigmoid last activation   \n",
    "        # print(\"After sigmoid shape: \", x.shape)\n",
    "\n",
    "        masksGenerated = x.permute(0, 2, 3, 1) # ([BatchSize,256, 376, 1])\n",
    "        masksGenerated = masksGenerated.squeeze(-1) # ([BatchSize,256, 376])\n",
    "        # print(\"Final output shape: \", masksGenerated.shape)\n",
    "        padded_masks = masksGenerated\n",
    "        \n",
    "        if(x.shape[1] % 2 != 0):\n",
    "            padded_masks = torch.zeros((masksGenerated.shape[0], masksGenerated.shape[1]+1, masksGenerated.shape[2]))\n",
    "            padded_masks[:, :masksGenerated.shape[1], :] = masksGenerated\n",
    "\n",
    "        return padded_masks\n",
    "\n",
    "    \n",
    "# model = ConvAutoEncoder(dtype)\n",
    "# print(model)"
   ]
  },
  {
   "cell_type": "code",
   "execution_count": 3,
   "metadata": {},
   "outputs": [],
   "source": [
    "noisyPath = '/home/ubuntu/OticonStuff/dataset/train'\n",
    "cleanPath = '/home/ubuntu/OticonStuff/dataset/y_train'\n",
    "noisy_files_list = fnmatch.filter(os.listdir(noisyPath), '*.wav')\n",
    "clean_files_list = fnmatch.filter(os.listdir(cleanPath), '*.wav')\n",
    "config = DefaultConfig()\n",
    "\n",
    "# print(\"Number of noisy files: \", len(noisy_files_list))\n",
    "# print(\"Number of clean files: \", len(clean_files_list))\n",
    "# print(\"Noisy file: \", noisy_files_list[1])\n",
    "# print(\"Clean file: \", clean_files_list[1])\n",
    "\n",
    "#Corresponds to 512 -> 32ms\n",
    "frameSize = config.frameSize\n",
    "#Corresponds to 32 -> 2ms\n",
    "stride_length = config.stride_length \n",
    "sampleRate = 16000\n",
    "speechSampleSize = config.duration * sampleRate \n"
   ]
  },
  {
   "cell_type": "code",
   "execution_count": 4,
   "metadata": {},
   "outputs": [
    {
     "name": "stdout",
     "output_type": "stream",
     "text": [
      "CustomDataLoader.createAudioClips()\n",
      "CustomDataLoader.createDataForNonRT()\n",
      "--------------------------DISPLAY---------------------------------------------\n",
      "noisy_files_list.shape = (4900,)\n",
      "clean_files_list.shape = (4900,)\n",
      "trainNoisyDataset.shape = 237\n",
      "trainCleanDataset.shape = 237\n",
      "trainSpectrogramData.shape = (237, 257, 376)\n",
      "trainTargets.shape = (237, 257, 376)\n",
      "-----------------------------------------------------------------------\n",
      "val_noisy_files_list.shape = (1050,)\n",
      "val_clean_files_list.shape = (1050,)\n",
      "validationNoisyDataset.shape = 242\n",
      "validationCleanDataset.shape = 242\n",
      "val_spectrogramData.shape = (242, 257, 376)\n",
      "val_targets.shape = (242, 257, 376)\n",
      "Selected train example file:  307-127539-0038.wav\n"
     ]
    }
   ],
   "source": [
    "X_train, X_temp, y_train, y_temp = train_test_split(noisy_files_list, clean_files_list, test_size=0.3, shuffle=True)\n",
    "\n",
    "#Splitting the temp into validation and test\n",
    "X_val, X_test, y_val, y_test = train_test_split(X_temp, y_temp, test_size=0.5,shuffle=True)\n",
    "\n",
    "# print(f'shape of numpy X_train: {np.array(X_train).shape}')\n",
    "# # print(f'shape of numpy y_train: {np.array(y_train).shape}')\n",
    "# print(f'shape of numpy X_test: {np.array(X_test).shape}')\n",
    "# # print(f'shape of numpy y_test: {np.array(y_test).shape}')\n",
    "\n",
    "# print(f'shape of numpy X_val: {np.array(X_val).shape}')\n",
    "# # print(f'shape of numpy y_test: {np.array(y_test).shape}')\n",
    "\n",
    "\n",
    "#All defaults in dataconfig\n",
    "dataConfig = DataConfig(\n",
    "    batchSize= config.batchSize,\n",
    "    dtype= dtype,\n",
    "    device = device,\n",
    "    learningRate = config.learningRate,\n",
    "    frameSize = frameSize, \n",
    "    stride_length = stride_length,\n",
    "    sample_rate = sampleRate,\n",
    "    modelBufferFrames= 0,                   #Doesn't matter for non-RT\n",
    "    duration = config.duration,\n",
    "    n_fft = frameSize,\n",
    "    shuffle = config.shuffle,\n",
    "    noisyPath = noisyPath,\n",
    "    cleanPath = cleanPath\n",
    ")\n",
    "\n",
    "dataloaderCreator = CustomDataloaderCreator(X_train, y_train,X_test,y_test,X_val,y_val,dataconfig=dataConfig,filesToUse=150)\n",
    "dataloaderCreator.prepareNonRT()\n",
    "\n",
    "dataloader = dataloaderCreator.getTrainDataloaderNonRT()\n",
    "validationDataloader = dataloaderCreator.getValidationDataloaderNonRT()\n",
    "\n",
    "numOfFrames = dataloaderCreator.getNumOfFrames()\n",
    "numOfFreqBins = dataloaderCreator.getNumOfFreqBins()\n",
    "dataConfig.numOfFreqBins = numOfFreqBins\n",
    "dataConfig.numOfFrames = numOfFrames\n",
    "\n",
    "selectedTrainExampleFile = X_train[4]\n",
    "print(\"Selected train example file: \", selectedTrainExampleFile)"
   ]
  },
  {
   "cell_type": "code",
   "execution_count": 5,
   "metadata": {},
   "outputs": [
    {
     "name": "stdout",
     "output_type": "stream",
     "text": [
      "Number of frames:  376\n",
      "Number of freq bins:  257\n"
     ]
    },
    {
     "name": "stderr",
     "output_type": "stream",
     "text": [
      "Failed to detect the name of this notebook, you can set it manually with the WANDB_NOTEBOOK_NAME environment variable to enable code saving.\n"
     ]
    },
    {
     "name": "stdout",
     "output_type": "stream",
     "text": [
      "Model:  SimpleLinearModel(\n",
      "  (neuralnet): Sequential(\n",
      "    (0): Flatten(start_dim=1, end_dim=-1)\n",
      "    (1): Linear(in_features=96632, out_features=512, bias=True)\n",
      "    (2): ReLU()\n",
      "    (3): Linear(in_features=512, out_features=512, bias=True)\n",
      "    (4): ReLU()\n",
      "    (5): Linear(in_features=512, out_features=512, bias=True)\n",
      "    (6): ReLU()\n",
      "    (7): Linear(in_features=512, out_features=96632, bias=True)\n",
      "    (8): Sigmoid()\n",
      "  )\n",
      ")\n",
      "modelParameterCount = 99573624\n",
      "Training non realtime: NonRT(TDLOSS):512_LatentSize:512_LR:0.01_BS:64_Epochs:150_decayingLR:True_shuffle:True_SimpleLinearModel\n",
      "pesqToBeat = 1.21229887008667\n"
     ]
    },
    {
     "name": "stderr",
     "output_type": "stream",
     "text": [
      "\u001b[34m\u001b[1mwandb\u001b[0m: Currently logged in as: \u001b[33mviborgen\u001b[0m (\u001b[33mricenet\u001b[0m). Use \u001b[1m`wandb login --relogin`\u001b[0m to force relogin\n"
     ]
    },
    {
     "data": {
      "text/html": [
       "wandb version 0.16.0 is available!  To upgrade, please run:\n",
       " $ pip install wandb --upgrade"
      ],
      "text/plain": [
       "<IPython.core.display.HTML object>"
      ]
     },
     "metadata": {},
     "output_type": "display_data"
    },
    {
     "data": {
      "text/html": [
       "Tracking run with wandb version 0.14.0"
      ],
      "text/plain": [
       "<IPython.core.display.HTML object>"
      ]
     },
     "metadata": {},
     "output_type": "display_data"
    },
    {
     "data": {
      "text/html": [
       "Run data is saved locally in <code>/home/ubuntu/OticonStuff/wandb/run-20231130_095551-dy8crml9</code>"
      ],
      "text/plain": [
       "<IPython.core.display.HTML object>"
      ]
     },
     "metadata": {},
     "output_type": "display_data"
    },
    {
     "data": {
      "text/html": [
       "Syncing run <strong><a href='https://wandb.ai/ricenet/Shobhit_SEM9/runs/dy8crml9' target=\"_blank\">NonRT(TDLOSS):512_LatentSize:512_LR:0.01_BS:64_Epochs:150_decayingLR:True_shuffle:True_SimpleLinearModel</a></strong> to <a href='https://wandb.ai/ricenet/Shobhit_SEM9' target=\"_blank\">Weights & Biases</a> (<a href='https://wandb.me/run' target=\"_blank\">docs</a>)<br/>"
      ],
      "text/plain": [
       "<IPython.core.display.HTML object>"
      ]
     },
     "metadata": {},
     "output_type": "display_data"
    },
    {
     "data": {
      "text/html": [
       " View project at <a href='https://wandb.ai/ricenet/Shobhit_SEM9' target=\"_blank\">https://wandb.ai/ricenet/Shobhit_SEM9</a>"
      ],
      "text/plain": [
       "<IPython.core.display.HTML object>"
      ]
     },
     "metadata": {},
     "output_type": "display_data"
    },
    {
     "data": {
      "text/html": [
       " View run at <a href='https://wandb.ai/ricenet/Shobhit_SEM9/runs/dy8crml9' target=\"_blank\">https://wandb.ai/ricenet/Shobhit_SEM9/runs/dy8crml9</a>"
      ],
      "text/plain": [
       "<IPython.core.display.HTML object>"
      ]
     },
     "metadata": {},
     "output_type": "display_data"
    },
    {
     "name": "stderr",
     "output_type": "stream",
     "text": [
      "  0%|                                                                       | 0/150 [00:00<?, ?it/s]"
     ]
    },
    {
     "name": "stdout",
     "output_type": "stream",
     "text": [
      "Batch_3: Mask_1 mask values = tensor([[0.5049, 0.5032, 0.5053,  ..., 0.5013, 0.5045, 0.5075],\n",
      "        [0.4927, 0.4963, 0.5104,  ..., 0.4945, 0.5054, 0.4983],\n",
      "        [0.4898, 0.5085, 0.5031,  ..., 0.5001, 0.5097, 0.4987],\n",
      "        ...,\n",
      "        [0.5016, 0.4931, 0.4920,  ..., 0.5028, 0.4988, 0.5071],\n",
      "        [0.4840, 0.5072, 0.5108,  ..., 0.4998, 0.4920, 0.4943],\n",
      "        [0.4952, 0.5055, 0.4975,  ..., 0.4969, 0.4911, 0.4965]],\n",
      "       grad_fn=<UnbindBackward0>)\n",
      "LOSS train 1.987175437534461e-06 valid 4.2126745825044054e-07\n"
     ]
    },
    {
     "name": "stderr",
     "output_type": "stream",
     "text": [
      "  1%|▊                                                              | 2/150 [00:03<03:41,  1.50s/it]"
     ]
    },
    {
     "name": "stdout",
     "output_type": "stream",
     "text": [
      "LOSS train 1.986894858418964e-06 valid 4.806500442100514e-07\n",
      "LOSS train 1.992286570384749e-06 valid 3.986406227340922e-07\n"
     ]
    },
    {
     "name": "stderr",
     "output_type": "stream",
     "text": [
      "  3%|█▋                                                             | 4/150 [00:07<03:52,  1.60s/it]"
     ]
    },
    {
     "name": "stdout",
     "output_type": "stream",
     "text": [
      "LOSS train 2.0047252746735467e-06 valid 4.1867892264235707e-07\n"
     ]
    },
    {
     "name": "stderr",
     "output_type": "stream",
     "text": [
      "  3%|██                                                             | 5/150 [00:07<02:55,  1.21s/it]"
     ]
    },
    {
     "name": "stdout",
     "output_type": "stream",
     "text": [
      "LOSS train 1.996697619688348e-06 valid 4.724464872651879e-07\n"
     ]
    },
    {
     "name": "stderr",
     "output_type": "stream",
     "text": [
      "  4%|██▌                                                            | 6/150 [00:08<02:19,  1.04it/s]"
     ]
    },
    {
     "name": "stdout",
     "output_type": "stream",
     "text": [
      "LOSS train 2.015741983996122e-06 valid 4.4426590761759144e-07\n",
      "LOSS train 1.981718924071174e-06 valid 3.682611122712842e-07\n"
     ]
    },
    {
     "name": "stderr",
     "output_type": "stream",
     "text": [
      "  5%|███▎                                                           | 8/150 [00:12<03:12,  1.35s/it]"
     ]
    },
    {
     "name": "stdout",
     "output_type": "stream",
     "text": [
      "LOSS train 1.99440569303988e-06 valid 4.742022383652511e-07\n"
     ]
    },
    {
     "name": "stderr",
     "output_type": "stream",
     "text": [
      "  6%|███▊                                                           | 9/150 [00:12<02:35,  1.10s/it]"
     ]
    },
    {
     "name": "stdout",
     "output_type": "stream",
     "text": [
      "LOSS train 1.996731043618638e-06 valid 3.9917307503856136e-07\n",
      "LOSS train 1.99464921024628e-06 valid 3.8677160318911774e-07\n"
     ]
    },
    {
     "name": "stderr",
     "output_type": "stream",
     "text": [
      "  7%|████▌                                                         | 11/150 [00:13<01:50,  1.25it/s]"
     ]
    },
    {
     "name": "stdout",
     "output_type": "stream",
     "text": [
      "LOSS train 1.982820322155021e-06 valid 4.544643559256656e-07\n",
      "LOSS train 1.9863864508806728e-06 valid 4.487542355491314e-07\n"
     ]
    },
    {
     "name": "stderr",
     "output_type": "stream",
     "text": [
      "  9%|█████▎                                                        | 13/150 [00:14<01:23,  1.63it/s]"
     ]
    },
    {
     "name": "stdout",
     "output_type": "stream",
     "text": [
      "LOSS train 1.998351535803522e-06 valid 4.4771010720978666e-07\n",
      "LOSS train 1.9556237020879053e-06 valid 4.029966476082336e-07\n"
     ]
    },
    {
     "name": "stderr",
     "output_type": "stream",
     "text": [
      "  9%|█████▊                                                        | 14/150 [00:14<01:15,  1.81it/s]"
     ]
    },
    {
     "name": "stdout",
     "output_type": "stream",
     "text": [
      "LOSS train 1.987126779567916e-06 valid 3.679509461562702e-07\n"
     ]
    },
    {
     "name": "stderr",
     "output_type": "stream",
     "text": [
      " 10%|██████▏                                                       | 15/150 [00:18<03:08,  1.39s/it]"
     ]
    },
    {
     "name": "stdout",
     "output_type": "stream",
     "text": [
      "LOSS train 1.9852859622915275e-06 valid 4.0608796325614094e-07\n"
     ]
    },
    {
     "name": "stderr",
     "output_type": "stream",
     "text": [
      " 11%|██████▌                                                       | 16/150 [00:18<02:32,  1.14s/it]"
     ]
    },
    {
     "name": "stdout",
     "output_type": "stream",
     "text": [
      "LOSS train 1.959615701707662e-06 valid 4.0829627323546447e-07\n"
     ]
    },
    {
     "name": "stderr",
     "output_type": "stream",
     "text": [
      " 11%|███████                                                       | 17/150 [00:19<02:10,  1.02it/s]"
     ]
    },
    {
     "name": "stdout",
     "output_type": "stream",
     "text": [
      "LOSS train 1.972569179997663e-06 valid 4.3146306438757165e-07\n"
     ]
    },
    {
     "name": "stderr",
     "output_type": "stream",
     "text": [
      " 13%|███████▊                                                      | 19/150 [00:20<01:33,  1.40it/s]"
     ]
    },
    {
     "name": "stdout",
     "output_type": "stream",
     "text": [
      "LOSS train 1.981399236683501e-06 valid 3.9494736370215833e-07\n"
     ]
    },
    {
     "name": "stderr",
     "output_type": "stream",
     "text": [
      " 13%|████████▎                                                     | 20/150 [00:20<01:22,  1.58it/s]"
     ]
    },
    {
     "name": "stdout",
     "output_type": "stream",
     "text": [
      "LOSS train 1.9875262751156697e-06 valid 4.2178254489044775e-07\n",
      "Batch_1: Mask_1 mask values = tensor([[0.5048, 0.5033, 0.5053,  ..., 0.5014, 0.5046, 0.5076],\n",
      "        [0.4926, 0.4962, 0.5104,  ..., 0.4945, 0.5054, 0.4984],\n",
      "        [0.4898, 0.5084, 0.5031,  ..., 0.5001, 0.5098, 0.4987],\n",
      "        ...,\n",
      "        [0.5018, 0.4930, 0.4920,  ..., 0.5028, 0.4988, 0.5070],\n",
      "        [0.4839, 0.5071, 0.5109,  ..., 0.4998, 0.4920, 0.4943],\n",
      "        [0.4952, 0.5054, 0.4974,  ..., 0.4970, 0.4913, 0.4963]],\n",
      "       grad_fn=<UnbindBackward0>)\n",
      "LOSS train 2.0042900814587483e-06 valid 4.2037567027364275e-07\n"
     ]
    },
    {
     "name": "stderr",
     "output_type": "stream",
     "text": [
      " 14%|████████▋                                                     | 21/150 [00:21<01:18,  1.63it/s]"
     ]
    },
    {
     "name": "stdout",
     "output_type": "stream",
     "text": [
      "runningPesqScore = 1.2126986980438232\n"
     ]
    },
    {
     "name": "stderr",
     "output_type": "stream",
     "text": [
      " 15%|█████████                                                     | 22/150 [00:21<01:12,  1.76it/s]"
     ]
    },
    {
     "name": "stdout",
     "output_type": "stream",
     "text": [
      "LOSS train 1.9744527435250347e-06 valid 4.296932729630498e-07\n",
      "LOSS train 2.0057721030752873e-06 valid 4.6727578251193336e-07\n"
     ]
    },
    {
     "name": "stderr",
     "output_type": "stream",
     "text": [
      " 16%|█████████▉                                                    | 24/150 [00:22<01:04,  1.94it/s]"
     ]
    },
    {
     "name": "stdout",
     "output_type": "stream",
     "text": [
      "LOSS train 1.9673375390993897e-06 valid 4.084723173036764e-07\n"
     ]
    },
    {
     "name": "stderr",
     "output_type": "stream",
     "text": [
      " 17%|██████████▎                                                   | 25/150 [00:23<00:59,  2.09it/s]"
     ]
    },
    {
     "name": "stdout",
     "output_type": "stream",
     "text": [
      "LOSS train 2.0110132936679292e-06 valid 4.0360384900850477e-07\n"
     ]
    },
    {
     "name": "stderr",
     "output_type": "stream",
     "text": [
      " 17%|██████████▋                                                   | 26/150 [00:23<00:55,  2.23it/s]"
     ]
    },
    {
     "name": "stdout",
     "output_type": "stream",
     "text": [
      "LOSS train 1.968034894161974e-06 valid 4.5453199959410995e-07\n"
     ]
    },
    {
     "name": "stderr",
     "output_type": "stream",
     "text": [
      " 18%|███████████▏                                                  | 27/150 [00:23<00:50,  2.43it/s]"
     ]
    },
    {
     "name": "stdout",
     "output_type": "stream",
     "text": [
      "LOSS train 2.0036575278936652e-06 valid 4.4688215439236956e-07\n"
     ]
    },
    {
     "name": "stderr",
     "output_type": "stream",
     "text": [
      " 19%|███████████▌                                                  | 28/150 [00:24<00:47,  2.58it/s]"
     ]
    },
    {
     "name": "stdout",
     "output_type": "stream",
     "text": [
      "LOSS train 1.9910478386009345e-06 valid 4.6522427510353737e-07\n"
     ]
    },
    {
     "name": "stderr",
     "output_type": "stream",
     "text": [
      " 19%|███████████▉                                                  | 29/150 [00:24<00:44,  2.72it/s]"
     ]
    },
    {
     "name": "stdout",
     "output_type": "stream",
     "text": [
      "LOSS train 1.9561573481041705e-06 valid 3.942781177102006e-07\n"
     ]
    },
    {
     "name": "stderr",
     "output_type": "stream",
     "text": [
      " 20%|████████████▍                                                 | 30/150 [00:24<00:42,  2.82it/s]"
     ]
    },
    {
     "name": "stdout",
     "output_type": "stream",
     "text": [
      "LOSS train 1.9998765310447197e-06 valid 3.8061679674683546e-07\n"
     ]
    },
    {
     "name": "stderr",
     "output_type": "stream",
     "text": [
      " 21%|████████████▊                                                 | 31/150 [00:25<00:41,  2.90it/s]"
     ]
    },
    {
     "name": "stdout",
     "output_type": "stream",
     "text": [
      "LOSS train 1.9859328403981635e-06 valid 4.0332628259420744e-07\n"
     ]
    },
    {
     "name": "stderr",
     "output_type": "stream",
     "text": [
      " 21%|█████████████▏                                                | 32/150 [00:25<00:39,  2.96it/s]"
     ]
    },
    {
     "name": "stdout",
     "output_type": "stream",
     "text": [
      "LOSS train 2.002258497668663e-06 valid 3.9408988072864304e-07\n"
     ]
    },
    {
     "name": "stderr",
     "output_type": "stream",
     "text": [
      " 22%|█████████████▋                                                | 33/150 [00:25<00:41,  2.83it/s]"
     ]
    },
    {
     "name": "stdout",
     "output_type": "stream",
     "text": [
      "LOSS train 1.9719052488653688e-06 valid 4.048870607675781e-07\n"
     ]
    },
    {
     "name": "stderr",
     "output_type": "stream",
     "text": [
      " 23%|██████████████                                                | 34/150 [00:26<00:39,  2.96it/s]"
     ]
    },
    {
     "name": "stdout",
     "output_type": "stream",
     "text": [
      "LOSS train 2.000888343900442e-06 valid 4.1099028180724417e-07\n"
     ]
    },
    {
     "name": "stderr",
     "output_type": "stream",
     "text": [
      " 23%|██████████████▍                                               | 35/150 [00:26<00:37,  3.05it/s]"
     ]
    },
    {
     "name": "stdout",
     "output_type": "stream",
     "text": [
      "LOSS train 1.9911115032300586e-06 valid 4.3383587922107836e-07\n"
     ]
    },
    {
     "name": "stderr",
     "output_type": "stream",
     "text": [
      " 24%|██████████████▉                                               | 36/150 [00:26<00:36,  3.13it/s]"
     ]
    },
    {
     "name": "stdout",
     "output_type": "stream",
     "text": [
      "LOSS train 1.970920493477024e-06 valid 4.391466177366965e-07\n"
     ]
    },
    {
     "name": "stderr",
     "output_type": "stream",
     "text": [
      " 25%|███████████████▎                                              | 37/150 [00:27<00:35,  3.18it/s]"
     ]
    },
    {
     "name": "stdout",
     "output_type": "stream",
     "text": [
      "LOSS train 2.0038187358295545e-06 valid 4.2494917806834565e-07\n"
     ]
    },
    {
     "name": "stderr",
     "output_type": "stream",
     "text": [
      " 25%|███████████████▋                                              | 38/150 [00:27<00:34,  3.23it/s]"
     ]
    },
    {
     "name": "stdout",
     "output_type": "stream",
     "text": [
      "LOSS train 2.0016211692563957e-06 valid 3.9702172216493636e-07\n"
     ]
    },
    {
     "name": "stderr",
     "output_type": "stream",
     "text": [
      " 26%|████████████████                                              | 39/150 [00:27<00:34,  3.25it/s]"
     ]
    },
    {
     "name": "stdout",
     "output_type": "stream",
     "text": [
      "LOSS train 1.992131046790746e-06 valid 4.049510380355059e-07\n"
     ]
    },
    {
     "name": "stderr",
     "output_type": "stream",
     "text": [
      " 27%|████████████████▌                                             | 40/150 [00:28<00:33,  3.27it/s]"
     ]
    },
    {
     "name": "stdout",
     "output_type": "stream",
     "text": [
      "LOSS train 1.990875261981273e-06 valid 4.306961045585922e-07\n",
      "Batch_3: Mask_1 mask values = tensor([[0.5048, 0.5032, 0.5054,  ..., 0.5014, 0.5046, 0.5077],\n",
      "        [0.4926, 0.4962, 0.5103,  ..., 0.4945, 0.5054, 0.4984],\n",
      "        [0.4899, 0.5084, 0.5031,  ..., 0.5002, 0.5097, 0.4987],\n",
      "        ...,\n",
      "        [0.5017, 0.4930, 0.4920,  ..., 0.5028, 0.4986, 0.5070],\n",
      "        [0.4840, 0.5071, 0.5109,  ..., 0.4998, 0.4920, 0.4943],\n",
      "        [0.4952, 0.5054, 0.4974,  ..., 0.4969, 0.4913, 0.4965]],\n",
      "       grad_fn=<UnbindBackward0>)\n",
      "LOSS train 1.982851017601206e-06 valid 5.228117174738145e-07\n"
     ]
    },
    {
     "name": "stderr",
     "output_type": "stream",
     "text": [
      " 27%|████████████████▉                                             | 41/150 [00:28<00:38,  2.86it/s]"
     ]
    },
    {
     "name": "stdout",
     "output_type": "stream",
     "text": [
      "runningPesqScore = 1.2126986980438232\n"
     ]
    },
    {
     "name": "stderr",
     "output_type": "stream",
     "text": [
      " 28%|█████████████████▎                                            | 42/150 [00:28<00:39,  2.70it/s]"
     ]
    },
    {
     "name": "stdout",
     "output_type": "stream",
     "text": [
      "LOSS train 2.0042682535859058e-06 valid 4.847457262258104e-07\n"
     ]
    },
    {
     "name": "stderr",
     "output_type": "stream",
     "text": [
      " 29%|█████████████████▊                                            | 43/150 [00:29<00:40,  2.64it/s]"
     ]
    },
    {
     "name": "stdout",
     "output_type": "stream",
     "text": [
      "LOSS train 1.981032937692362e-06 valid 4.476546280329785e-07\n"
     ]
    },
    {
     "name": "stderr",
     "output_type": "stream",
     "text": [
      " 29%|██████████████████▏                                           | 44/150 [00:29<00:40,  2.62it/s]"
     ]
    },
    {
     "name": "stdout",
     "output_type": "stream",
     "text": [
      "LOSS train 1.978357659027097e-06 valid 3.8843259630994e-07\n",
      "LOSS train 1.991897534026066e-06 valid 4.29487585051902e-07\n"
     ]
    },
    {
     "name": "stderr",
     "output_type": "stream",
     "text": [
      " 30%|██████████████████▌                                           | 45/150 [00:30<00:45,  2.30it/s]"
     ]
    },
    {
     "name": "stdout",
     "output_type": "stream",
     "text": [
      "LOSS train 1.9756678284466034e-06 valid 4.172137266778009e-07\n"
     ]
    },
    {
     "name": "stderr",
     "output_type": "stream",
     "text": [
      " 31%|███████████████████▍                                          | 47/150 [00:31<00:50,  2.04it/s]"
     ]
    },
    {
     "name": "stdout",
     "output_type": "stream",
     "text": [
      "LOSS train 1.9797666936938185e-06 valid 4.538112250429549e-07\n"
     ]
    },
    {
     "name": "stderr",
     "output_type": "stream",
     "text": [
      " 32%|███████████████████▊                                          | 48/150 [00:31<00:48,  2.09it/s]"
     ]
    },
    {
     "name": "stdout",
     "output_type": "stream",
     "text": [
      "LOSS train 2.0051852516189683e-06 valid 3.9079108660189377e-07\n"
     ]
    },
    {
     "name": "stderr",
     "output_type": "stream",
     "text": [
      " 33%|████████████████████▎                                         | 49/150 [00:32<00:46,  2.19it/s]"
     ]
    },
    {
     "name": "stdout",
     "output_type": "stream",
     "text": [
      "LOSS train 1.987305267903139e-06 valid 4.1602760347814183e-07\n"
     ]
    },
    {
     "name": "stderr",
     "output_type": "stream",
     "text": [
      " 33%|████████████████████▋                                         | 50/150 [00:32<00:42,  2.34it/s]"
     ]
    },
    {
     "name": "stdout",
     "output_type": "stream",
     "text": [
      "LOSS train 1.990771579585271e-06 valid 3.72675401649758e-07\n"
     ]
    },
    {
     "name": "stderr",
     "output_type": "stream",
     "text": [
      " 34%|█████████████████████                                         | 51/150 [00:33<00:50,  1.98it/s]"
     ]
    },
    {
     "name": "stdout",
     "output_type": "stream",
     "text": [
      "LOSS train 1.96324140233628e-06 valid 4.1108413029178337e-07\n"
     ]
    },
    {
     "name": "stderr",
     "output_type": "stream",
     "text": [
      " 35%|█████████████████████▍                                        | 52/150 [00:33<00:46,  2.09it/s]"
     ]
    },
    {
     "name": "stdout",
     "output_type": "stream",
     "text": [
      "LOSS train 1.9752590105781564e-06 valid 4.0019378388933546e-07\n",
      "LOSS train 2.001685970753897e-06 valid 4.2597343963279855e-07\n"
     ]
    },
    {
     "name": "stderr",
     "output_type": "stream",
     "text": [
      " 35%|█████████████████████▉                                        | 53/150 [00:34<00:45,  2.12it/s]"
     ]
    },
    {
     "name": "stdout",
     "output_type": "stream",
     "text": [
      "LOSS train 1.9748276827158406e-06 valid 4.0096890074892144e-07\n"
     ]
    },
    {
     "name": "stderr",
     "output_type": "stream",
     "text": [
      " 36%|██████████████████████▎                                       | 54/150 [00:34<00:44,  2.17it/s]"
     ]
    },
    {
     "name": "stdout",
     "output_type": "stream",
     "text": [
      "LOSS train 1.9947187865909655e-06 valid 4.451626409718301e-07\n"
     ]
    },
    {
     "name": "stderr",
     "output_type": "stream",
     "text": [
      " 37%|██████████████████████▋                                       | 55/150 [00:35<00:45,  2.09it/s]"
     ]
    },
    {
     "name": "stdout",
     "output_type": "stream",
     "text": [
      "LOSS train 1.9867429728037678e-06 valid 4.4983679003962607e-07\n"
     ]
    },
    {
     "name": "stderr",
     "output_type": "stream",
     "text": [
      " 38%|███████████████████████▌                                      | 57/150 [00:36<00:43,  2.12it/s]"
     ]
    },
    {
     "name": "stdout",
     "output_type": "stream",
     "text": [
      "LOSS train 1.98887050828489e-06 valid 4.2540096956145135e-07\n"
     ]
    },
    {
     "name": "stderr",
     "output_type": "stream",
     "text": [
      " 39%|███████████████████████▉                                      | 58/150 [00:36<00:41,  2.24it/s]"
     ]
    },
    {
     "name": "stdout",
     "output_type": "stream",
     "text": [
      "LOSS train 1.9729216091946e-06 valid 3.9383039052154345e-07\n",
      "LOSS train 1.974756514755427e-06 valid 4.7661910684837494e-07\n"
     ]
    },
    {
     "name": "stderr",
     "output_type": "stream",
     "text": [
      " 39%|████████████████████████▍                                     | 59/150 [00:36<00:40,  2.26it/s]"
     ]
    },
    {
     "name": "stdout",
     "output_type": "stream",
     "text": [
      "LOSS train 1.9860656266246224e-06 valid 4.348932804987271e-07\n"
     ]
    },
    {
     "name": "stderr",
     "output_type": "stream",
     "text": [
      " 40%|████████████████████████▊                                     | 60/150 [00:37<00:41,  2.15it/s]"
     ]
    },
    {
     "name": "stdout",
     "output_type": "stream",
     "text": [
      "Batch_2: Mask_1 mask values = tensor([[0.5049, 0.5033, 0.5053,  ..., 0.5015, 0.5045, 0.5076],\n",
      "        [0.4926, 0.4962, 0.5104,  ..., 0.4944, 0.5054, 0.4984],\n",
      "        [0.4898, 0.5085, 0.5031,  ..., 0.5001, 0.5098, 0.4988],\n",
      "        ...,\n",
      "        [0.5016, 0.4931, 0.4921,  ..., 0.5030, 0.4986, 0.5070],\n",
      "        [0.4839, 0.5072, 0.5108,  ..., 0.4999, 0.4921, 0.4944],\n",
      "        [0.4951, 0.5054, 0.4976,  ..., 0.4967, 0.4912, 0.4965]],\n",
      "       grad_fn=<UnbindBackward0>)\n",
      "LOSS train 1.96124847207102e-06 valid 3.8749644204472133e-07\n",
      "runningPesqScore = 1.2126986980438232\n"
     ]
    },
    {
     "name": "stderr",
     "output_type": "stream",
     "text": [
      " 41%|█████████████████████████▋                                    | 62/150 [00:38<00:43,  2.03it/s]"
     ]
    },
    {
     "name": "stdout",
     "output_type": "stream",
     "text": [
      "LOSS train 2.0007855709991418e-06 valid 3.8119674172776286e-07\n"
     ]
    },
    {
     "name": "stderr",
     "output_type": "stream",
     "text": [
      " 42%|██████████████████████████                                    | 63/150 [00:38<00:41,  2.08it/s]"
     ]
    },
    {
     "name": "stdout",
     "output_type": "stream",
     "text": [
      "LOSS train 1.9686210634972667e-06 valid 4.586028126141173e-07\n"
     ]
    },
    {
     "name": "stderr",
     "output_type": "stream",
     "text": [
      " 43%|██████████████████████████▍                                   | 64/150 [00:39<00:37,  2.27it/s]"
     ]
    },
    {
     "name": "stdout",
     "output_type": "stream",
     "text": [
      "LOSS train 1.9794583749899175e-06 valid 4.040428507323668e-07\n",
      "LOSS train 1.9715635062311776e-06 valid 4.674693343531544e-07\n"
     ]
    },
    {
     "name": "stderr",
     "output_type": "stream",
     "text": [
      " 43%|██████████████████████████▊                                   | 65/150 [00:39<00:39,  2.18it/s]"
     ]
    },
    {
     "name": "stdout",
     "output_type": "stream",
     "text": [
      "LOSS train 1.978070031327661e-06 valid 3.7742742620139325e-07\n"
     ]
    },
    {
     "name": "stderr",
     "output_type": "stream",
     "text": [
      " 45%|███████████████████████████▋                                  | 67/150 [00:40<00:37,  2.20it/s]"
     ]
    },
    {
     "name": "stdout",
     "output_type": "stream",
     "text": [
      "LOSS train 1.995574166357983e-06 valid 4.852889787798631e-07\n"
     ]
    },
    {
     "name": "stderr",
     "output_type": "stream",
     "text": [
      " 45%|████████████████████████████                                  | 68/150 [00:41<00:38,  2.15it/s]"
     ]
    },
    {
     "name": "stdout",
     "output_type": "stream",
     "text": [
      "LOSS train 1.9828703443636186e-06 valid 4.850387540500378e-07\n"
     ]
    },
    {
     "name": "stderr",
     "output_type": "stream",
     "text": [
      " 46%|████████████████████████████▌                                 | 69/150 [00:41<00:35,  2.27it/s]"
     ]
    },
    {
     "name": "stdout",
     "output_type": "stream",
     "text": [
      "LOSS train 1.9836397768813185e-06 valid 3.960316234952188e-07\n"
     ]
    },
    {
     "name": "stderr",
     "output_type": "stream",
     "text": [
      " 47%|████████████████████████████▉                                 | 70/150 [00:41<00:33,  2.37it/s]"
     ]
    },
    {
     "name": "stdout",
     "output_type": "stream",
     "text": [
      "LOSS train 1.9690560293383896e-06 valid 4.008352618711797e-07\n",
      "LOSS train 2.0084939933440182e-06 valid 3.534289021445147e-07\n"
     ]
    },
    {
     "name": "stderr",
     "output_type": "stream",
     "text": [
      " 47%|█████████████████████████████▎                                | 71/150 [00:45<01:41,  1.28s/it]"
     ]
    },
    {
     "name": "stdout",
     "output_type": "stream",
     "text": [
      "LOSS train 1.998473635467235e-06 valid 4.4252047359805147e-07\n"
     ]
    },
    {
     "name": "stderr",
     "output_type": "stream",
     "text": [
      " 48%|█████████████████████████████▊                                | 72/150 [00:45<01:23,  1.07s/it]"
     ]
    },
    {
     "name": "stdout",
     "output_type": "stream",
     "text": [
      "LOSS train 1.9633860119938618e-06 valid 3.911864610017801e-07\n"
     ]
    },
    {
     "name": "stderr",
     "output_type": "stream",
     "text": [
      " 49%|██████████████████████████████▏                               | 73/150 [00:46<01:10,  1.10it/s]"
     ]
    },
    {
     "name": "stdout",
     "output_type": "stream",
     "text": [
      "LOSS train 1.999200094360276e-06 valid 3.77122063355273e-07\n"
     ]
    },
    {
     "name": "stderr",
     "output_type": "stream",
     "text": [
      " 50%|███████████████████████████████                               | 75/150 [00:47<00:51,  1.47it/s]"
     ]
    },
    {
     "name": "stdout",
     "output_type": "stream",
     "text": [
      "LOSS train 2.007695684369537e-06 valid 4.0996962979988893e-07\n"
     ]
    },
    {
     "name": "stderr",
     "output_type": "stream",
     "text": [
      " 51%|███████████████████████████████▍                              | 76/150 [00:47<00:45,  1.62it/s]"
     ]
    },
    {
     "name": "stdout",
     "output_type": "stream",
     "text": [
      "LOSS train 1.9848143892886583e-06 valid 3.771765761939605e-07\n"
     ]
    },
    {
     "name": "stderr",
     "output_type": "stream",
     "text": [
      " 51%|███████████████████████████████▊                              | 77/150 [00:48<00:40,  1.79it/s]"
     ]
    },
    {
     "name": "stdout",
     "output_type": "stream",
     "text": [
      "LOSS train 1.998909738176735e-06 valid 4.197297585051274e-07\n"
     ]
    },
    {
     "name": "stderr",
     "output_type": "stream",
     "text": [
      " 52%|████████████████████████████████▏                             | 78/150 [00:48<00:35,  2.01it/s]"
     ]
    },
    {
     "name": "stdout",
     "output_type": "stream",
     "text": [
      "LOSS train 1.9934323063353077e-06 valid 3.731744016022276e-07\n"
     ]
    },
    {
     "name": "stderr",
     "output_type": "stream",
     "text": [
      " 53%|████████████████████████████████▋                             | 79/150 [00:48<00:34,  2.08it/s]"
     ]
    },
    {
     "name": "stdout",
     "output_type": "stream",
     "text": [
      "LOSS train 1.969097183973645e-06 valid 3.9671107288086205e-07\n"
     ]
    },
    {
     "name": "stderr",
     "output_type": "stream",
     "text": [
      " 53%|█████████████████████████████████                             | 80/150 [00:49<00:30,  2.30it/s]"
     ]
    },
    {
     "name": "stdout",
     "output_type": "stream",
     "text": [
      "LOSS train 2.0092898012080695e-06 valid 4.2135636135753884e-07\n",
      "Batch_3: Mask_1 mask values = tensor([[0.5047, 0.5032, 0.5053,  ..., 0.5014, 0.5046, 0.5076],\n",
      "        [0.4926, 0.4962, 0.5102,  ..., 0.4945, 0.5055, 0.4984],\n",
      "        [0.4898, 0.5085, 0.5032,  ..., 0.5001, 0.5097, 0.4987],\n",
      "        ...,\n",
      "        [0.5017, 0.4930, 0.4920,  ..., 0.5028, 0.4988, 0.5070],\n",
      "        [0.4840, 0.5071, 0.5108,  ..., 0.4998, 0.4920, 0.4943],\n",
      "        [0.4953, 0.5054, 0.4974,  ..., 0.4969, 0.4912, 0.4964]],\n",
      "       grad_fn=<UnbindBackward0>)\n",
      "LOSS train 1.9934927877329756e-06 valid 4.0117430444297497e-07\n"
     ]
    },
    {
     "name": "stderr",
     "output_type": "stream",
     "text": [
      " 54%|█████████████████████████████████▍                            | 81/150 [00:49<00:29,  2.37it/s]"
     ]
    },
    {
     "name": "stdout",
     "output_type": "stream",
     "text": [
      "runningPesqScore = 1.2126986980438232\n"
     ]
    },
    {
     "name": "stderr",
     "output_type": "stream",
     "text": [
      " 55%|█████████████████████████████████▉                            | 82/150 [00:49<00:26,  2.56it/s]"
     ]
    },
    {
     "name": "stdout",
     "output_type": "stream",
     "text": [
      "LOSS train 1.9950302885263227e-06 valid 3.962311154737108e-07\n"
     ]
    },
    {
     "name": "stderr",
     "output_type": "stream",
     "text": [
      " 55%|██████████████████████████████████▎                           | 83/150 [00:50<00:25,  2.63it/s]"
     ]
    },
    {
     "name": "stdout",
     "output_type": "stream",
     "text": [
      "LOSS train 2.0038787624798715e-06 valid 4.4088523054597317e-07\n"
     ]
    },
    {
     "name": "stderr",
     "output_type": "stream",
     "text": [
      " 56%|██████████████████████████████████▋                           | 84/150 [00:50<00:24,  2.70it/s]"
     ]
    },
    {
     "name": "stdout",
     "output_type": "stream",
     "text": [
      "LOSS train 1.9644994608825073e-06 valid 4.652867744425748e-07\n"
     ]
    },
    {
     "name": "stderr",
     "output_type": "stream",
     "text": [
      " 57%|███████████████████████████████████▏                          | 85/150 [00:50<00:23,  2.74it/s]"
     ]
    },
    {
     "name": "stdout",
     "output_type": "stream",
     "text": [
      "LOSS train 1.9933645489800256e-06 valid 3.9244744698407885e-07\n"
     ]
    },
    {
     "name": "stderr",
     "output_type": "stream",
     "text": [
      " 57%|███████████████████████████████████▌                          | 86/150 [00:51<00:23,  2.78it/s]"
     ]
    },
    {
     "name": "stdout",
     "output_type": "stream",
     "text": [
      "LOSS train 1.988736130442703e-06 valid 4.612861062014417e-07\n"
     ]
    },
    {
     "name": "stderr",
     "output_type": "stream",
     "text": [
      " 58%|███████████████████████████████████▉                          | 87/150 [00:51<00:23,  2.63it/s]"
     ]
    },
    {
     "name": "stdout",
     "output_type": "stream",
     "text": [
      "LOSS train 1.9748404156416655e-06 valid 4.3135389660164947e-07\n"
     ]
    },
    {
     "name": "stderr",
     "output_type": "stream",
     "text": [
      " 59%|████████████████████████████████████▎                         | 88/150 [00:52<00:26,  2.31it/s]"
     ]
    },
    {
     "name": "stdout",
     "output_type": "stream",
     "text": [
      "LOSS train 1.9993894966319203e-06 valid 4.1174848774971906e-07\n",
      "LOSS train 1.995070988414227e-06 valid 4.5564422634924995e-07\n"
     ]
    },
    {
     "name": "stderr",
     "output_type": "stream",
     "text": [
      " 59%|████████████████████████████████████▊                         | 89/150 [00:52<00:28,  2.12it/s]"
     ]
    },
    {
     "name": "stdout",
     "output_type": "stream",
     "text": [
      "LOSS train 2.003945610340452e-06 valid 4.1431121644563973e-07\n"
     ]
    },
    {
     "name": "stderr",
     "output_type": "stream",
     "text": [
      " 60%|█████████████████████████████████████▏                        | 90/150 [00:53<00:29,  2.06it/s]"
     ]
    },
    {
     "name": "stdout",
     "output_type": "stream",
     "text": [
      "LOSS train 1.994834974539117e-06 valid 3.9740692159284663e-07\n"
     ]
    },
    {
     "name": "stderr",
     "output_type": "stream",
     "text": [
      " 61%|██████████████████████████████████████                        | 92/150 [00:54<00:27,  2.07it/s]"
     ]
    },
    {
     "name": "stdout",
     "output_type": "stream",
     "text": [
      "LOSS train 1.9858143787132576e-06 valid 4.6432003841800906e-07\n",
      "LOSS train 1.9864196474372875e-06 valid 4.431980471508723e-07\n"
     ]
    },
    {
     "name": "stderr",
     "output_type": "stream",
     "text": [
      " 62%|██████████████████████████████████████▍                       | 93/150 [00:54<00:27,  2.05it/s]"
     ]
    },
    {
     "name": "stdout",
     "output_type": "stream",
     "text": [
      "LOSS train 1.955690777322161e-06 valid 4.469135319595807e-07\n"
     ]
    },
    {
     "name": "stderr",
     "output_type": "stream",
     "text": [
      " 63%|███████████████████████████████████████▎                      | 95/150 [00:55<00:26,  2.08it/s]"
     ]
    },
    {
     "name": "stdout",
     "output_type": "stream",
     "text": [
      "LOSS train 1.977853571588639e-06 valid 4.3292314444443036e-07\n"
     ]
    },
    {
     "name": "stderr",
     "output_type": "stream",
     "text": [
      " 64%|███████████████████████████████████████▋                      | 96/150 [00:56<00:24,  2.17it/s]"
     ]
    },
    {
     "name": "stdout",
     "output_type": "stream",
     "text": [
      "LOSS train 1.9654828520287992e-06 valid 3.734101881036622e-07\n"
     ]
    },
    {
     "name": "stderr",
     "output_type": "stream",
     "text": [
      " 65%|████████████████████████████████████████                      | 97/150 [00:56<00:24,  2.18it/s]"
     ]
    },
    {
     "name": "stdout",
     "output_type": "stream",
     "text": [
      "LOSS train 1.9803792383754626e-06 valid 4.066456540385843e-07\n",
      "LOSS train 1.9995009097328875e-06 valid 4.3026670937251765e-07\n"
     ]
    },
    {
     "name": "stderr",
     "output_type": "stream",
     "text": [
      " 66%|████████████████████████████████████████▉                     | 99/150 [00:57<00:22,  2.22it/s]"
     ]
    },
    {
     "name": "stdout",
     "output_type": "stream",
     "text": [
      "LOSS train 2.0368179320939817e-06 valid 4.5753279209748143e-07\n"
     ]
    },
    {
     "name": "stderr",
     "output_type": "stream",
     "text": [
      " 67%|████████████████████████████████████████▋                    | 100/150 [00:57<00:21,  2.28it/s]"
     ]
    },
    {
     "name": "stdout",
     "output_type": "stream",
     "text": [
      "LOSS train 1.976780822587898e-06 valid 4.1551516005711164e-07\n",
      "Batch_3: Mask_1 mask values = tensor([[0.5048, 0.5033, 0.5054,  ..., 0.5013, 0.5045, 0.5076],\n",
      "        [0.4926, 0.4962, 0.5104,  ..., 0.4945, 0.5054, 0.4985],\n",
      "        [0.4898, 0.5085, 0.5032,  ..., 0.5001, 0.5097, 0.4986],\n",
      "        ...,\n",
      "        [0.5018, 0.4930, 0.4920,  ..., 0.5027, 0.4988, 0.5070],\n",
      "        [0.4840, 0.5072, 0.5108,  ..., 0.4999, 0.4921, 0.4943],\n",
      "        [0.4952, 0.5055, 0.4974,  ..., 0.4968, 0.4913, 0.4965]],\n",
      "       grad_fn=<UnbindBackward0>)\n"
     ]
    },
    {
     "name": "stderr",
     "output_type": "stream",
     "text": [
      " 67%|█████████████████████████████████████████                    | 101/150 [00:58<00:28,  1.72it/s]"
     ]
    },
    {
     "name": "stdout",
     "output_type": "stream",
     "text": [
      "LOSS train 1.9930330381612293e-06 valid 4.343692410202493e-07\n",
      "runningPesqScore = 1.2126986980438232\n",
      "LOSS train 1.960135932677076e-06 valid 3.8687349501742574e-07\n"
     ]
    },
    {
     "name": "stderr",
     "output_type": "stream",
     "text": [
      " 69%|█████████████████████████████████████████▉                   | 103/150 [00:59<00:25,  1.87it/s]"
     ]
    },
    {
     "name": "stdout",
     "output_type": "stream",
     "text": [
      "LOSS train 1.982295543712098e-06 valid 4.4992867742621456e-07\n",
      "LOSS train 1.9712401808646973e-06 valid 3.721374355336593e-07\n"
     ]
    },
    {
     "name": "stderr",
     "output_type": "stream",
     "text": [
      " 69%|██████████████████████████████████████████▎                  | 104/150 [01:00<00:23,  1.96it/s]"
     ]
    },
    {
     "name": "stdout",
     "output_type": "stream",
     "text": [
      "LOSS train 1.9982426238129847e-06 valid 4.5282675387170457e-07\n"
     ]
    },
    {
     "name": "stderr",
     "output_type": "stream",
     "text": [
      " 70%|██████████████████████████████████████████▋                  | 105/150 [01:00<00:22,  1.99it/s]"
     ]
    },
    {
     "name": "stdout",
     "output_type": "stream",
     "text": [
      "LOSS train 1.979172793653561e-06 valid 3.9548123709209904e-07\n"
     ]
    },
    {
     "name": "stderr",
     "output_type": "stream",
     "text": [
      " 71%|███████████████████████████████████████████                  | 106/150 [01:01<00:21,  2.05it/s]"
     ]
    },
    {
     "name": "stdout",
     "output_type": "stream",
     "text": [
      "LOSS train 1.9782316940109013e-06 valid 4.065863663527125e-07\n"
     ]
    },
    {
     "name": "stderr",
     "output_type": "stream",
     "text": [
      " 71%|███████████████████████████████████████████▌                 | 107/150 [01:01<00:21,  1.98it/s]"
     ]
    },
    {
     "name": "stdout",
     "output_type": "stream",
     "text": [
      "LOSS train 1.98993484445964e-06 valid 4.0482663621332904e-07\n"
     ]
    },
    {
     "name": "stderr",
     "output_type": "stream",
     "text": [
      " 72%|███████████████████████████████████████████▉                 | 108/150 [01:02<00:20,  2.08it/s]"
     ]
    },
    {
     "name": "stdout",
     "output_type": "stream",
     "text": [
      "LOSS train 2.004962425417034e-06 valid 3.9343103708233684e-07\n"
     ]
    },
    {
     "name": "stderr",
     "output_type": "stream",
     "text": [
      " 73%|████████████████████████████████████████████▋                | 110/150 [01:03<00:18,  2.16it/s]"
     ]
    },
    {
     "name": "stdout",
     "output_type": "stream",
     "text": [
      "LOSS train 1.982270759981475e-06 valid 3.859191224364622e-07\n"
     ]
    },
    {
     "name": "stderr",
     "output_type": "stream",
     "text": [
      " 74%|█████████████████████████████████████████████▏               | 111/150 [01:03<00:17,  2.20it/s]"
     ]
    },
    {
     "name": "stdout",
     "output_type": "stream",
     "text": [
      "LOSS train 1.9899080143659376e-06 valid 4.2296088054172287e-07\n"
     ]
    },
    {
     "name": "stderr",
     "output_type": "stream",
     "text": [
      " 75%|█████████████████████████████████████████████▌               | 112/150 [01:04<00:17,  2.23it/s]"
     ]
    },
    {
     "name": "stdout",
     "output_type": "stream",
     "text": [
      "LOSS train 1.997463641600916e-06 valid 4.3015282358283e-07\n"
     ]
    },
    {
     "name": "stderr",
     "output_type": "stream",
     "text": [
      " 75%|█████████████████████████████████████████████▉               | 113/150 [01:04<00:16,  2.24it/s]"
     ]
    },
    {
     "name": "stdout",
     "output_type": "stream",
     "text": [
      "LOSS train 1.95890925169806e-06 valid 3.6262773051021213e-07\n",
      "LOSS train 1.990334567381069e-06 valid 4.173245145011606e-07\n"
     ]
    },
    {
     "name": "stderr",
     "output_type": "stream",
     "text": [
      " 76%|██████████████████████████████████████████████▎              | 114/150 [01:04<00:15,  2.26it/s]"
     ]
    },
    {
     "name": "stdout",
     "output_type": "stream",
     "text": [
      "LOSS train 1.9883166260115104e-06 valid 4.4842053625870903e-07\n"
     ]
    },
    {
     "name": "stderr",
     "output_type": "stream",
     "text": [
      " 77%|███████████████████████████████████████████████▏             | 116/150 [01:05<00:15,  2.24it/s]"
     ]
    },
    {
     "name": "stdout",
     "output_type": "stream",
     "text": [
      "LOSS train 1.9973990674770903e-06 valid 4.1657119709270773e-07\n"
     ]
    },
    {
     "name": "stderr",
     "output_type": "stream",
     "text": [
      " 78%|███████████████████████████████████████████████▌             | 117/150 [01:06<00:14,  2.35it/s]"
     ]
    },
    {
     "name": "stdout",
     "output_type": "stream",
     "text": [
      "LOSS train 1.988287749554729e-06 valid 4.1147663409901725e-07\n"
     ]
    },
    {
     "name": "stderr",
     "output_type": "stream",
     "text": [
      " 79%|███████████████████████████████████████████████▉             | 118/150 [01:06<00:12,  2.49it/s]"
     ]
    },
    {
     "name": "stdout",
     "output_type": "stream",
     "text": [
      "LOSS train 1.994528247450944e-06 valid 4.2389760324113013e-07\n"
     ]
    },
    {
     "name": "stderr",
     "output_type": "stream",
     "text": [
      " 79%|████████████████████████████████████████████████▍            | 119/150 [01:06<00:11,  2.62it/s]"
     ]
    },
    {
     "name": "stdout",
     "output_type": "stream",
     "text": [
      "LOSS train 1.9752369553316385e-06 valid 4.000662272574118e-07\n"
     ]
    },
    {
     "name": "stderr",
     "output_type": "stream",
     "text": [
      " 80%|████████████████████████████████████████████████▊            | 120/150 [01:07<00:10,  2.75it/s]"
     ]
    },
    {
     "name": "stdout",
     "output_type": "stream",
     "text": [
      "LOSS train 1.9762974261539057e-06 valid 4.67480731458636e-07\n",
      "Batch_0: Mask_1 mask values = tensor([[0.5049, 0.5031, 0.5052,  ..., 0.5015, 0.5045, 0.5076],\n",
      "        [0.4927, 0.4962, 0.5104,  ..., 0.4944, 0.5054, 0.4984],\n",
      "        [0.4898, 0.5085, 0.5031,  ..., 0.5002, 0.5098, 0.4987],\n",
      "        ...,\n",
      "        [0.5018, 0.4931, 0.4920,  ..., 0.5028, 0.4988, 0.5071],\n",
      "        [0.4838, 0.5073, 0.5108,  ..., 0.4998, 0.4919, 0.4943],\n",
      "        [0.4952, 0.5054, 0.4975,  ..., 0.4969, 0.4913, 0.4963]],\n",
      "       grad_fn=<UnbindBackward0>)\n",
      "LOSS train 1.9972744667029474e-06 valid 4.7181134732454666e-07\n",
      "runningPesqScore = 1.2126986980438232\n"
     ]
    },
    {
     "name": "stderr",
     "output_type": "stream",
     "text": [
      " 81%|█████████████████████████████████████████████████▌           | 122/150 [01:08<00:10,  2.65it/s]"
     ]
    },
    {
     "name": "stdout",
     "output_type": "stream",
     "text": [
      "LOSS train 1.969024424397503e-06 valid 3.988390346876258e-07\n"
     ]
    },
    {
     "name": "stderr",
     "output_type": "stream",
     "text": [
      " 82%|██████████████████████████████████████████████████           | 123/150 [01:08<00:10,  2.62it/s]"
     ]
    },
    {
     "name": "stdout",
     "output_type": "stream",
     "text": [
      "LOSS train 1.962127726073959e-06 valid 4.5689881744692684e-07\n",
      "LOSS train 1.9626559151220135e-06 valid 4.207897177366249e-07\n"
     ]
    },
    {
     "name": "stderr",
     "output_type": "stream",
     "text": [
      " 83%|██████████████████████████████████████████████████▍          | 124/150 [01:08<00:10,  2.37it/s]"
     ]
    },
    {
     "name": "stdout",
     "output_type": "stream",
     "text": [
      "LOSS train 1.9997532945126295e-06 valid 3.997162991709047e-07\n"
     ]
    },
    {
     "name": "stderr",
     "output_type": "stream",
     "text": [
      " 83%|██████████████████████████████████████████████████▊          | 125/150 [01:09<00:11,  2.16it/s]"
     ]
    },
    {
     "name": "stdout",
     "output_type": "stream",
     "text": [
      "LOSS train 1.964137709364877e-06 valid 3.7383088624665106e-07\n"
     ]
    },
    {
     "name": "stderr",
     "output_type": "stream",
     "text": [
      " 85%|███████████████████████████████████████████████████▋         | 127/150 [01:10<00:10,  2.13it/s]"
     ]
    },
    {
     "name": "stdout",
     "output_type": "stream",
     "text": [
      "LOSS train 2.000358335862984e-06 valid 4.1515647808409994e-07\n"
     ]
    },
    {
     "name": "stderr",
     "output_type": "stream",
     "text": [
      " 85%|████████████████████████████████████████████████████         | 128/150 [01:10<00:10,  2.17it/s]"
     ]
    },
    {
     "name": "stdout",
     "output_type": "stream",
     "text": [
      "LOSS train 1.977535021069343e-06 valid 4.669120983180619e-07\n"
     ]
    },
    {
     "name": "stderr",
     "output_type": "stream",
     "text": [
      " 86%|████████████████████████████████████████████████████▍        | 129/150 [01:11<00:09,  2.20it/s]"
     ]
    },
    {
     "name": "stdout",
     "output_type": "stream",
     "text": [
      "LOSS train 1.9897811398550402e-06 valid 4.5932182501928764e-07\n"
     ]
    },
    {
     "name": "stderr",
     "output_type": "stream",
     "text": [
      " 87%|████████████████████████████████████████████████████▊        | 130/150 [01:11<00:08,  2.24it/s]"
     ]
    },
    {
     "name": "stdout",
     "output_type": "stream",
     "text": [
      "LOSS train 1.9763313048315467e-06 valid 4.062916332259192e-07\n",
      "LOSS train 1.9818069176835706e-06 valid 4.5286421368473384e-07\n"
     ]
    },
    {
     "name": "stderr",
     "output_type": "stream",
     "text": [
      " 87%|█████████████████████████████████████████████████████▎       | 131/150 [01:12<00:08,  2.19it/s]"
     ]
    },
    {
     "name": "stdout",
     "output_type": "stream",
     "text": [
      "LOSS train 1.993649448195356e-06 valid 3.504923142827465e-07\n"
     ]
    },
    {
     "name": "stderr",
     "output_type": "stream",
     "text": [
      " 88%|█████████████████████████████████████████████████████▋       | 132/150 [01:15<00:24,  1.34s/it]"
     ]
    },
    {
     "name": "stdout",
     "output_type": "stream",
     "text": [
      "LOSS train 1.9922949832107406e-06 valid 3.9114712535592844e-07\n"
     ]
    },
    {
     "name": "stderr",
     "output_type": "stream",
     "text": [
      " 89%|██████████████████████████████████████████████████████▍      | 134/150 [01:16<00:14,  1.09it/s]"
     ]
    },
    {
     "name": "stdout",
     "output_type": "stream",
     "text": [
      "LOSS train 1.9732517557713436e-06 valid 4.422801680448174e-07\n"
     ]
    },
    {
     "name": "stderr",
     "output_type": "stream",
     "text": [
      " 90%|██████████████████████████████████████████████████████▉      | 135/150 [01:17<00:11,  1.30it/s]"
     ]
    },
    {
     "name": "stdout",
     "output_type": "stream",
     "text": [
      "LOSS train 1.9871420136041706e-06 valid 4.100209309854108e-07\n",
      "LOSS train 1.9871943095495226e-06 valid 4.1556407381904137e-07\n"
     ]
    },
    {
     "name": "stderr",
     "output_type": "stream",
     "text": [
      " 91%|███████████████████████████████████████████████████████▋     | 137/150 [01:17<00:07,  1.73it/s]"
     ]
    },
    {
     "name": "stdout",
     "output_type": "stream",
     "text": [
      "LOSS train 1.9783904008363606e-06 valid 3.746001766558038e-07\n"
     ]
    },
    {
     "name": "stderr",
     "output_type": "stream",
     "text": [
      " 92%|████████████████████████████████████████████████████████     | 138/150 [01:18<00:06,  1.88it/s]"
     ]
    },
    {
     "name": "stdout",
     "output_type": "stream",
     "text": [
      "LOSS train 1.980278284463566e-06 valid 4.596316784954979e-07\n"
     ]
    },
    {
     "name": "stderr",
     "output_type": "stream",
     "text": [
      " 93%|████████████████████████████████████████████████████████▌    | 139/150 [01:18<00:05,  2.02it/s]"
     ]
    },
    {
     "name": "stdout",
     "output_type": "stream",
     "text": [
      "LOSS train 1.9994424746982986e-06 valid 4.487079365844693e-07\n"
     ]
    },
    {
     "name": "stderr",
     "output_type": "stream",
     "text": [
      " 93%|████████████████████████████████████████████████████████▉    | 140/150 [01:19<00:04,  2.13it/s]"
     ]
    },
    {
     "name": "stdout",
     "output_type": "stream",
     "text": [
      "LOSS train 1.9814524421235546e-06 valid 3.6894962818223576e-07\n",
      "Batch_2: Mask_1 mask values = tensor([[0.5048, 0.5032, 0.5053,  ..., 0.5015, 0.5045, 0.5075],\n",
      "        [0.4926, 0.4962, 0.5103,  ..., 0.4945, 0.5054, 0.4985],\n",
      "        [0.4898, 0.5085, 0.5031,  ..., 0.5002, 0.5098, 0.4986],\n",
      "        ...,\n",
      "        [0.5017, 0.4931, 0.4919,  ..., 0.5028, 0.4986, 0.5070],\n",
      "        [0.4840, 0.5071, 0.5108,  ..., 0.4999, 0.4920, 0.4943],\n",
      "        [0.4952, 0.5054, 0.4974,  ..., 0.4969, 0.4912, 0.4964]],\n",
      "       grad_fn=<UnbindBackward0>)\n",
      "LOSS train 1.984239133889787e-06 valid 4.2821949364224565e-07\n"
     ]
    },
    {
     "name": "stderr",
     "output_type": "stream",
     "text": [
      " 94%|█████████████████████████████████████████████████████████▎   | 141/150 [01:19<00:04,  2.09it/s]"
     ]
    },
    {
     "name": "stdout",
     "output_type": "stream",
     "text": [
      "runningPesqScore = 1.2126986980438232\n"
     ]
    },
    {
     "name": "stderr",
     "output_type": "stream",
     "text": [
      " 95%|█████████████████████████████████████████████████████████▋   | 142/150 [01:19<00:03,  2.29it/s]"
     ]
    },
    {
     "name": "stdout",
     "output_type": "stream",
     "text": [
      "LOSS train 2.0134696114837425e-06 valid 4.248707909937366e-07\n"
     ]
    },
    {
     "name": "stderr",
     "output_type": "stream",
     "text": [
      " 95%|██████████████████████████████████████████████████████████▏  | 143/150 [01:20<00:02,  2.38it/s]"
     ]
    },
    {
     "name": "stdout",
     "output_type": "stream",
     "text": [
      "LOSS train 2.0075799511687364e-06 valid 4.765264236539224e-07\n",
      "LOSS train 1.9740041352633853e-06 valid 4.4012540456606075e-07\n"
     ]
    },
    {
     "name": "stderr",
     "output_type": "stream",
     "text": [
      " 96%|██████████████████████████████████████████████████████████▌  | 144/150 [01:20<00:02,  2.32it/s]"
     ]
    },
    {
     "name": "stdout",
     "output_type": "stream",
     "text": [
      "LOSS train 2.0036411569890333e-06 valid 4.389478647226497e-07\n"
     ]
    },
    {
     "name": "stderr",
     "output_type": "stream",
     "text": [
      " 97%|██████████████████████████████████████████████████████████▉  | 145/150 [01:21<00:02,  2.28it/s]"
     ]
    },
    {
     "name": "stdout",
     "output_type": "stream",
     "text": [
      "LOSS train 2.0082452465430833e-06 valid 4.1914930193343025e-07\n"
     ]
    },
    {
     "name": "stderr",
     "output_type": "stream",
     "text": [
      " 97%|███████████████████████████████████████████████████████████▎ | 146/150 [01:21<00:01,  2.28it/s]"
     ]
    },
    {
     "name": "stdout",
     "output_type": "stream",
     "text": [
      "LOSS train 2.0195263914501993e-06 valid 4.606971515386249e-07\n"
     ]
    },
    {
     "name": "stderr",
     "output_type": "stream",
     "text": [
      " 99%|████████████████████████████████████████████████████████████▏| 148/150 [01:22<00:00,  2.33it/s]"
     ]
    },
    {
     "name": "stdout",
     "output_type": "stream",
     "text": [
      "LOSS train 1.976457042474067e-06 valid 4.0783362464935635e-07\n"
     ]
    },
    {
     "name": "stderr",
     "output_type": "stream",
     "text": [
      " 99%|████████████████████████████████████████████████████████████▌| 149/150 [01:22<00:00,  2.43it/s]"
     ]
    },
    {
     "name": "stdout",
     "output_type": "stream",
     "text": [
      "LOSS train 1.9953204173361883e-06 valid 3.856032719795621e-07\n"
     ]
    },
    {
     "name": "stderr",
     "output_type": "stream",
     "text": [
      "100%|█████████████████████████████████████████████████████████████| 150/150 [01:23<00:00,  1.80it/s]"
     ]
    },
    {
     "name": "stdout",
     "output_type": "stream",
     "text": [
      "LOSS train 1.9958499706262955e-06 valid 4.4841280555374396e-07\n"
     ]
    },
    {
     "name": "stderr",
     "output_type": "stream",
     "text": [
      "\n"
     ]
    },
    {
     "data": {
      "text/html": [
       "Waiting for W&B process to finish... <strong style=\"color:green\">(success).</strong>"
      ],
      "text/plain": [
       "<IPython.core.display.HTML object>"
      ]
     },
     "metadata": {},
     "output_type": "display_data"
    },
    {
     "data": {
      "text/html": [
       "<style>\n",
       "    table.wandb td:nth-child(1) { padding: 0 10px; text-align: left ; width: auto;} td:nth-child(2) {text-align: left ; width: 100%}\n",
       "    .wandb-row { display: flex; flex-direction: row; flex-wrap: wrap; justify-content: flex-start; width: 100% }\n",
       "    .wandb-col { display: flex; flex-direction: column; flex-basis: 100%; flex: 1; padding: 10px; }\n",
       "    </style>\n",
       "<div class=\"wandb-row\"><div class=\"wandb-col\"><h3>Run history:</h3><br/><table class=\"wandb\"><tr><td>model parameters</td><td>▁</td></tr><tr><td>pesqScore</td><td>▁▁▁▁▁▁▁▁▁▁▁▁▁▁▁▁▁▁▁▁▁▁▁▁▁▁▁▁▁▁▁▁▁▁▁▁▁▁▁▁</td></tr><tr><td>pesqToBeat</td><td>▁</td></tr><tr><td>trainLoss</td><td>▄▅▅▅▁▅▆▁▄▄▄▃▃▂▄▃▁▂▃▂▅▄▄▄▄▃█▃▃▄▄▃▅▅▄▄▃▃▅▄</td></tr><tr><td>valLoss</td><td>▃█▃▆▃▄▃▂▃▅▃▆▆▄▆█▂▇▂▂▄▃▂▇▃▅▇▆▃▄▆▃█▃▇▂▁▅▅▂</td></tr></table><br/></div><div class=\"wandb-col\"><h3>Run summary:</h3><br/><table class=\"wandb\"><tr><td>model parameters</td><td>99573624</td></tr><tr><td>pesqScore</td><td>1.2127</td></tr><tr><td>pesqToBeat</td><td>1.2123</td></tr><tr><td>trainLoss</td><td>0.0</td></tr><tr><td>valLoss</td><td>0.0</td></tr></table><br/></div></div>"
      ],
      "text/plain": [
       "<IPython.core.display.HTML object>"
      ]
     },
     "metadata": {},
     "output_type": "display_data"
    },
    {
     "data": {
      "text/html": [
       " View run <strong style=\"color:#cdcd00\">NonRT(TDLOSS):512_LatentSize:512_LR:0.01_BS:64_Epochs:150_decayingLR:True_shuffle:True_SimpleLinearModel</strong> at: <a href='https://wandb.ai/ricenet/Shobhit_SEM9/runs/dy8crml9' target=\"_blank\">https://wandb.ai/ricenet/Shobhit_SEM9/runs/dy8crml9</a><br/>Synced 6 W&B file(s), 33 media file(s), 0 artifact file(s) and 0 other file(s)"
      ],
      "text/plain": [
       "<IPython.core.display.HTML object>"
      ]
     },
     "metadata": {},
     "output_type": "display_data"
    },
    {
     "data": {
      "text/html": [
       "Find logs at: <code>./wandb/run-20231130_095551-dy8crml9/logs</code>"
      ],
      "text/plain": [
       "<IPython.core.display.HTML object>"
      ]
     },
     "metadata": {},
     "output_type": "display_data"
    }
   ],
   "source": [
    "print(\"Number of frames: \", numOfFrames)\n",
    "print(\"Number of freq bins: \", numOfFreqBins)\n",
    "\n",
    "# Model config\n",
    "num_epochs = config.num_epochs\n",
    "useScheduler = True\n",
    "useModelNo = 2\n",
    "\n",
    "\n",
    "if(useModelNo == 0):\n",
    "    model = ConvAutoEncoder(dataConfig.dtype)\n",
    "    # runName = f'NonRT:{dataConfig.frameSize}_stride:{dataConfig.frameSize/2}_LR:{dataConfig.learningRate}_BS:{dataConfig.batchSize}_Epochs:{config.num_epochs}_decayingLR:{useScheduler}_shuffle:{dataConfig.shuffle}_ConvAE'\n",
    "    # runName = f'NonRT:{dataConfig.frameSize}_stride:{dataConfig.frameSize/2}_LR:{dataConfig.learningRate}_BS:{dataConfig.batchSize}_Epochs:{config.num_epochs}_decayingLR:{useScheduler}_shuffle:{dataConfig.shuffle}_ConvAE_NoAct'\n",
    "    runName = f'NonRT(TDLOSS):{dataConfig.frameSize}_stride:{dataConfig.frameSize/2}_LR:{dataConfig.learningRate}_BS:{dataConfig.batchSize}_Epochs:{config.num_epochs}_decayingLR:{useScheduler}_shuffle:{dataConfig.shuffle}_ConvAE'\n",
    "elif(useModelNo == 1):\n",
    "    latentsize = 16\n",
    "    model = BasicAutoEncoder((numOfFreqBins,numOfFrames),latentSize=latentsize,dtype=dataConfig.dtype) #([BatchSize,257, 376])\n",
    "    # runName = f'NonRT:{dataConfig.frameSize}_LatentSize:{latentsize}_LR:{dataConfig.learningRate}_BS:{dataConfig.batchSize}_Epochs:{config.num_epochs}_decayingLR:{useScheduler}__shuffle:{dataConfig.shuffle}_BasicAE'\n",
    "    # runName = f'NonRT:{dataConfig.frameSize}_LatentSize:{latentsize}_LR:{dataConfig.learningRate}_BS:{dataConfig.batchSize}_Epochs:{config.num_epochs}_decayingLR:{useScheduler}__shuffle:{dataConfig.shuffle}_BasicAE_NoAct'\n",
    "    runName = f'NonRT(TDLOSS):{dataConfig.frameSize}_LatentSize:{latentsize}_LR:{dataConfig.learningRate}_BS:{dataConfig.batchSize}_Epochs:{config.num_epochs}_decayingLR:{useScheduler}__shuffle:{dataConfig.shuffle}_BasicAE'\n",
    "else:\n",
    "    model = SimpleLinearModel((numOfFreqBins,numOfFrames),config.hiddenSize,config.numHiddenLayers,dtype=dataConfig.dtype)\n",
    "    # runName = f'NonRT:{dataConfig.frameSize}_LatentSize:{config.hiddenSize}_LR:{dataConfig.learningRate}_BS:{dataConfig.batchSize}_Epochs:{config.num_epochs}_decayingLR:{useScheduler}_shuffle:{dataConfig.shuffle}_SimpleLinearModel_NoAct'\n",
    "    runName = f'NonRT(TDLOSS):{dataConfig.frameSize}_LatentSize:{config.hiddenSize}_LR:{dataConfig.learningRate}_BS:{dataConfig.batchSize}_Epochs:{config.num_epochs}_decayingLR:{useScheduler}_shuffle:{dataConfig.shuffle}_SimpleLinearModel'\n",
    "\n",
    "print(\"Model: \", model)\n",
    "loss_fn = nn.MSELoss()\n",
    "\n",
    "# Define your optimizer (e.g., Adam optimizer)\n",
    "optimizer = optim.Adam(model.parameters(), lr=dataConfig.learningRate)\n",
    "scheduler = torch.optim.lr_scheduler.ReduceLROnPlateau(optimizer, 'min', patience=3, factor=0.8, verbose=False)\n",
    "\n",
    "trainer = Trainer(\n",
    "    model = model,\n",
    "    optimizer = optimizer,\n",
    "    scheduler = scheduler,\n",
    "    loss_func = loss_fn,\n",
    "    num_epochs = num_epochs,\n",
    "    )\n",
    "\n",
    "\n",
    "# Wandb Controls====================================\n",
    "useWandB = False\n",
    "sweeping = False\n",
    "# ====================================\n",
    "\n",
    "# Loss in the frequency domain \n",
    "# trainer.trainNonRT(\n",
    "#     train_dataloader = dataloader,\n",
    "#     val_dataloader = validationDataloader,\n",
    "#     dataConfig = dataConfig,\n",
    "#     modelSaveDir = \"/home/ubuntu/OticonStuff/models\",\n",
    "#     wandbName = runName,\n",
    "#     wavFileTesting = f'{selectedTrainExampleFile}',\n",
    "#     debugFlag = False,\n",
    "#     useWandB=useWandB,\n",
    "#     sweeping = sweeping,\n",
    "#     useScheduler = useScheduler,\n",
    "# )\n",
    "\n",
    "\n",
    "# Loss in the time domain\n",
    "trainer.trainNonRTLossTD(\n",
    "        train_dataloader = dataloader,\n",
    "        val_dataloader = validationDataloader,\n",
    "        dataConfig = dataConfig,\n",
    "        modelSaveDir = \"/home/ubuntu/OticonStuff/models\",\n",
    "        wandbName = runName,\n",
    "        wavFileTesting = f'{selectedTrainExampleFile}',\n",
    "        debugFlag = False,\n",
    "        useWandB=useWandB,\n",
    "        sweeping = sweeping,\n",
    "        useScheduler = useScheduler,\n",
    "        scaleFactor= 4\n",
    "    )\n"
   ]
  }
 ],
 "metadata": {
  "kernelspec": {
   "display_name": "coinpp-new",
   "language": "python",
   "name": "python3"
  },
  "language_info": {
   "codemirror_mode": {
    "name": "ipython",
    "version": 3
   },
   "file_extension": ".py",
   "mimetype": "text/x-python",
   "name": "python",
   "nbconvert_exporter": "python",
   "pygments_lexer": "ipython3",
   "version": "3.9.15"
  }
 },
 "nbformat": 4,
 "nbformat_minor": 2
}
