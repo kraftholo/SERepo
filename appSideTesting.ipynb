{
 "cells": [
  {
   "cell_type": "code",
   "execution_count": 14,
   "metadata": {},
   "outputs": [],
   "source": [
    "import torchaudio\n",
    "import torch\n",
    "import sounddevice as sd\n",
    "import IPython.display as ipd\n",
    "import numpy as np"
   ]
  },
  {
   "cell_type": "code",
   "execution_count": 15,
   "metadata": {},
   "outputs": [
    {
     "name": "stdout",
     "output_type": "stream",
     "text": [
      "torchaudio backend : soundfile\n"
     ]
    }
   ],
   "source": [
    "print(f'torchaudio backend : {torchaudio.get_audio_backend()}')\n",
    "waveform, sample_rate = torchaudio.load('androidTestAudioFiles/Test_Conv_AirportAnnouncements_2.wav')"
   ]
  },
  {
   "cell_type": "code",
   "execution_count": 16,
   "metadata": {},
   "outputs": [
    {
     "name": "stdout",
     "output_type": "stream",
     "text": [
      "First 30 samples: tensor([0., 0., 0., 0., 0., 0., 0., 0., 0., 0., 0., 0., 0., 0., 0., 0., 0., 0., 0., 0., 0., 0., 0., 0.,\n",
      "        0., 0., 0., 0., 0., 0.])\n",
      "waveform_train shape = torch.Size([1, 2664028])\n",
      "Sample rate = 16000\n",
      "waveform dtype: float32\n"
     ]
    }
   ],
   "source": [
    "print(f'First 30 samples: {waveform[0, :30]}')\n",
    "print(f'waveform_train shape = {waveform.shape}')\n",
    "print(f'Sample rate = {sample_rate}')\n",
    "\n",
    "ipd.Audio(waveform, rate=sample_rate)\n",
    "waveform = waveform.numpy().reshape(-1)\n",
    "element_dtype = waveform[0].dtype\n",
    "print(f'waveform dtype: {element_dtype}')"
   ]
  },
  {
   "cell_type": "code",
   "execution_count": 21,
   "metadata": {},
   "outputs": [
    {
     "name": "stdout",
     "output_type": "stream",
     "text": [
      "non zero indices len = 1\n",
      "waveform shape = (2664028,)\n",
      "non zero values = 2663412\n",
      "first non zero index = 288\n",
      "first non zero value = -3.0517578125e-05\n",
      "first 10 non zero values = [-3.0517578e-05 -3.0517578e-05 -3.0517578e-05 -3.0517578e-05\n",
      " -3.0517578e-05  3.0517578e-05 -3.0517578e-05 -3.0517578e-05\n",
      " -3.0517578e-05 -3.0517578e-05]\n",
      "Value at idx 342 = -6.103515625e-05\n"
     ]
    }
   ],
   "source": [
    "\n",
    "non_zero_indices = np.nonzero(waveform)\n",
    "print(f'non zero indices len = {len(non_zero_indices)}')\n",
    "\n",
    "print(f'waveform shape = {waveform.shape}')\n",
    "print(f'non zero values = {np.count_nonzero(waveform)}')\n",
    "\n",
    "print(f'first non zero index = {non_zero_indices[0][0]}')\n",
    "print(f'first non zero value = {waveform[non_zero_indices[0][0]]}')\n",
    "\n",
    "print(f'first 10 non zero values = {waveform[non_zero_indices[0][:10]]}')\n",
    "\n",
    "print(f'Value at idx 342 = {waveform[342]}')"
   ]
  },
  {
   "cell_type": "code",
   "execution_count": 18,
   "metadata": {},
   "outputs": [
    {
     "name": "stdout",
     "output_type": "stream",
     "text": [
      "Values after 2664019 = [-0.07858276 -0.08673096 -0.09036255 -0.09008789 -0.08483887 -0.08410645\n",
      " -0.08279419 -0.08840942 -0.08248901]\n"
     ]
    }
   ],
   "source": [
    "idx = 2664019\n",
    "print(f'Values after {idx} = {waveform[idx:]}')"
   ]
  }
 ],
 "metadata": {
  "kernelspec": {
   "display_name": "workpy",
   "language": "python",
   "name": "python3"
  },
  "language_info": {
   "codemirror_mode": {
    "name": "ipython",
    "version": 3
   },
   "file_extension": ".py",
   "mimetype": "text/x-python",
   "name": "python",
   "nbconvert_exporter": "python",
   "pygments_lexer": "ipython3",
   "version": "3.11.5"
  },
  "orig_nbformat": 4
 },
 "nbformat": 4,
 "nbformat_minor": 2
}
